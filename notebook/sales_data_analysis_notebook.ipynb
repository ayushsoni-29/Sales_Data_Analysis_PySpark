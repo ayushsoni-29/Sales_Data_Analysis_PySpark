{
 "cells": [
  {
   "cell_type": "code",
   "execution_count": 0,
   "metadata": {
    "application/vnd.databricks.v1+cell": {
     "cellMetadata": {
      "byteLimit": 2048000,
      "rowLimit": 10000
     },
     "inputWidgets": {},
     "nuid": "8d185375-93f6-43c3-928e-7288dd70aff0",
     "showTitle": false,
     "title": ""
    }
   },
   "outputs": [],
   "source": [
    "from pyspark.sql.types import StructType,StructField,IntegerType,StringType,DateType"
   ]
  },
  {
   "cell_type": "code",
   "execution_count": 0,
   "metadata": {
    "application/vnd.databricks.v1+cell": {
     "cellMetadata": {
      "byteLimit": 2048000,
      "rowLimit": 10000
     },
     "inputWidgets": {},
     "nuid": "6cc30c00-8da7-4fee-9056-22cc7153a8a5",
     "showTitle": false,
     "title": ""
    }
   },
   "outputs": [],
   "source": [
    "### Loading sales data\n",
    "sales_schema = StructType([\n",
    "\n",
    "    StructField(\"product_id\",IntegerType(),True),\n",
    "    StructField(\"customer_id\",StringType(),True),\n",
    "    StructField(\"order_date\",DateType(),True),\n",
    "    StructField(\"location\",StringType(),True),\n",
    "    StructField(\"source_order\",StringType(),True)\n",
    "])\n",
    "\n",
    "sales_df = spark.read.format(\"csv\").option(\"header\",True).schema(sales_schema).load(\"/FileStore/tables/sales_csv.txt\")"
   ]
  },
  {
   "cell_type": "code",
   "execution_count": 0,
   "metadata": {
    "application/vnd.databricks.v1+cell": {
     "cellMetadata": {
      "byteLimit": 2048000,
      "rowLimit": 10000
     },
     "inputWidgets": {},
     "nuid": "6342bc3a-a721-429a-86bf-a1bbc648b155",
     "showTitle": false,
     "title": ""
    }
   },
   "outputs": [
    {
     "output_type": "stream",
     "name": "stdout",
     "output_type": "stream",
     "text": [
      "+----------+-----------+----------+--------+------------+\n|product_id|customer_id|order_date|location|source_order|\n+----------+-----------+----------+--------+------------+\n|         2|          A|2022-01-01|   India|      Swiggy|\n|         2|          A|2023-01-07|   India|      Swiggy|\n|         3|          A|2023-01-10|   India|  Restaurant|\n|         3|          A|2022-01-11|   India|      Swiggy|\n|         3|          A|2023-01-11|   India|  Restaurant|\n|         2|          B|2022-02-01|   India|      Swiggy|\n|         2|          B|2023-01-02|   India|      Swiggy|\n|         1|          B|2023-01-04|   India|  Restaurant|\n|         1|          B|2023-02-11|   India|      Swiggy|\n|         3|          B|2023-01-16|   India|      zomato|\n|         3|          B|2022-02-01|   India|      zomato|\n|         3|          C|2023-01-01|   India|      zomato|\n|         1|          C|2023-01-01|      UK|      Swiggy|\n|         6|          C|2022-01-07|      UK|      zomato|\n|         3|          D|2023-02-16|      UK|  Restaurant|\n|         5|          D|2022-02-01|      UK|      zomato|\n|         3|          E|2023-02-01|      UK|  Restaurant|\n|         4|          E|2023-02-01|      UK|      Swiggy|\n|         4|          E|2023-02-07|      UK|  Restaurant|\n|         2|          A|2022-01-01|      UK|      Swiggy|\n+----------+-----------+----------+--------+------------+\nonly showing top 20 rows\n\n"
     ]
    }
   ],
   "source": [
    "sales_df.show()"
   ]
  },
  {
   "cell_type": "code",
   "execution_count": 0,
   "metadata": {
    "application/vnd.databricks.v1+cell": {
     "cellMetadata": {
      "byteLimit": 2048000,
      "rowLimit": 10000
     },
     "inputWidgets": {},
     "nuid": "28f7a4ef-90ad-47cd-bdc1-0fd922432547",
     "showTitle": false,
     "title": ""
    }
   },
   "outputs": [
    {
     "output_type": "stream",
     "name": "stdout",
     "output_type": "stream",
     "text": [
      "root\n |-- product_id: integer (nullable = true)\n |-- customer_id: string (nullable = true)\n |-- order_date: date (nullable = true)\n |-- location: string (nullable = true)\n |-- source_order: string (nullable = true)\n\n"
     ]
    }
   ],
   "source": [
    "sales_df.printSchema()"
   ]
  },
  {
   "cell_type": "code",
   "execution_count": 0,
   "metadata": {
    "application/vnd.databricks.v1+cell": {
     "cellMetadata": {
      "byteLimit": 2048000,
      "rowLimit": 10000
     },
     "inputWidgets": {},
     "nuid": "77cb5e9e-fcc4-4459-bf50-981907f0b841",
     "showTitle": false,
     "title": ""
    }
   },
   "outputs": [],
   "source": [
    "from pyspark.sql.functions import month, year, quarter"
   ]
  },
  {
   "cell_type": "code",
   "execution_count": 0,
   "metadata": {
    "application/vnd.databricks.v1+cell": {
     "cellMetadata": {
      "byteLimit": 2048000,
      "rowLimit": 10000
     },
     "inputWidgets": {},
     "nuid": "4da7217d-f707-4905-946c-598a8f6f7168",
     "showTitle": false,
     "title": ""
    }
   },
   "outputs": [
    {
     "output_type": "stream",
     "name": "stdout",
     "output_type": "stream",
     "text": [
      "+----------+-----------+----------+--------+------------+----------+\n|product_id|customer_id|order_date|location|source_order|order_year|\n+----------+-----------+----------+--------+------------+----------+\n|         2|          A|2022-01-01|   India|      Swiggy|      2022|\n|         2|          A|2023-01-07|   India|      Swiggy|      2023|\n|         3|          A|2023-01-10|   India|  Restaurant|      2023|\n|         3|          A|2022-01-11|   India|      Swiggy|      2022|\n|         3|          A|2023-01-11|   India|  Restaurant|      2023|\n|         2|          B|2022-02-01|   India|      Swiggy|      2022|\n|         2|          B|2023-01-02|   India|      Swiggy|      2023|\n|         1|          B|2023-01-04|   India|  Restaurant|      2023|\n|         1|          B|2023-02-11|   India|      Swiggy|      2023|\n|         3|          B|2023-01-16|   India|      zomato|      2023|\n|         3|          B|2022-02-01|   India|      zomato|      2022|\n|         3|          C|2023-01-01|   India|      zomato|      2023|\n|         1|          C|2023-01-01|      UK|      Swiggy|      2023|\n|         6|          C|2022-01-07|      UK|      zomato|      2022|\n|         3|          D|2023-02-16|      UK|  Restaurant|      2023|\n|         5|          D|2022-02-01|      UK|      zomato|      2022|\n|         3|          E|2023-02-01|      UK|  Restaurant|      2023|\n|         4|          E|2023-02-01|      UK|      Swiggy|      2023|\n|         4|          E|2023-02-07|      UK|  Restaurant|      2023|\n|         2|          A|2022-01-01|      UK|      Swiggy|      2022|\n+----------+-----------+----------+--------+------------+----------+\nonly showing top 20 rows\n\n"
     ]
    }
   ],
   "source": [
    "### Extracting Year from order_date column.\n",
    "sales_df = sales_df.withColumn(\"order_year\",year(sales_df.order_date))\n",
    "sales_df.show()"
   ]
  },
  {
   "cell_type": "code",
   "execution_count": 0,
   "metadata": {
    "application/vnd.databricks.v1+cell": {
     "cellMetadata": {
      "byteLimit": 2048000,
      "rowLimit": 10000
     },
     "inputWidgets": {},
     "nuid": "b63ccaa8-9aa5-4d33-bc63-1ed00d94295f",
     "showTitle": false,
     "title": ""
    }
   },
   "outputs": [],
   "source": [
    "### ### Extracting Month and Quarter from order_date column.\n",
    "sales_df = sales_df.withColumn(\"order_month\",month(sales_df.order_date))\n",
    "sales_df = sales_df.withColumn(\"order_quarter\",quarter(sales_df.order_date))"
   ]
  },
  {
   "cell_type": "code",
   "execution_count": 0,
   "metadata": {
    "application/vnd.databricks.v1+cell": {
     "cellMetadata": {
      "byteLimit": 2048000,
      "rowLimit": 10000
     },
     "inputWidgets": {},
     "nuid": "3301706f-9a80-4003-a3c3-714823ab1b5e",
     "showTitle": false,
     "title": ""
    }
   },
   "outputs": [
    {
     "output_type": "stream",
     "name": "stdout",
     "output_type": "stream",
     "text": [
      "+----------+-----------+----------+--------+------------+----------+-----------+-------------+\n|product_id|customer_id|order_date|location|source_order|order_year|order_month|order_quarter|\n+----------+-----------+----------+--------+------------+----------+-----------+-------------+\n|         2|          A|2022-01-01|   India|      Swiggy|      2022|          1|            1|\n|         2|          A|2023-01-07|   India|      Swiggy|      2023|          1|            1|\n|         3|          A|2023-01-10|   India|  Restaurant|      2023|          1|            1|\n|         3|          A|2022-01-11|   India|      Swiggy|      2022|          1|            1|\n|         3|          A|2023-01-11|   India|  Restaurant|      2023|          1|            1|\n|         2|          B|2022-02-01|   India|      Swiggy|      2022|          2|            1|\n|         2|          B|2023-01-02|   India|      Swiggy|      2023|          1|            1|\n|         1|          B|2023-01-04|   India|  Restaurant|      2023|          1|            1|\n|         1|          B|2023-02-11|   India|      Swiggy|      2023|          2|            1|\n|         3|          B|2023-01-16|   India|      zomato|      2023|          1|            1|\n|         3|          B|2022-02-01|   India|      zomato|      2022|          2|            1|\n|         3|          C|2023-01-01|   India|      zomato|      2023|          1|            1|\n|         1|          C|2023-01-01|      UK|      Swiggy|      2023|          1|            1|\n|         6|          C|2022-01-07|      UK|      zomato|      2022|          1|            1|\n|         3|          D|2023-02-16|      UK|  Restaurant|      2023|          2|            1|\n|         5|          D|2022-02-01|      UK|      zomato|      2022|          2|            1|\n|         3|          E|2023-02-01|      UK|  Restaurant|      2023|          2|            1|\n|         4|          E|2023-02-01|      UK|      Swiggy|      2023|          2|            1|\n|         4|          E|2023-02-07|      UK|  Restaurant|      2023|          2|            1|\n|         2|          A|2022-01-01|      UK|      Swiggy|      2022|          1|            1|\n+----------+-----------+----------+--------+------------+----------+-----------+-------------+\nonly showing top 20 rows\n\n"
     ]
    }
   ],
   "source": [
    "sales_df.show()"
   ]
  },
  {
   "cell_type": "code",
   "execution_count": 0,
   "metadata": {
    "application/vnd.databricks.v1+cell": {
     "cellMetadata": {
      "byteLimit": 2048000,
      "rowLimit": 10000
     },
     "inputWidgets": {},
     "nuid": "41aa541d-c0f4-4aac-b320-14d47368dd17",
     "showTitle": false,
     "title": ""
    }
   },
   "outputs": [],
   "source": [
    "### Loading menu data\n",
    "menu_schema = StructType([\n",
    "\n",
    "    StructField(\"product_id\",IntegerType(),True),\n",
    "    StructField(\"product_name\",StringType(),True),\n",
    "    StructField(\"price\",StringType(),True)\n",
    "    \n",
    "])\n",
    "\n",
    "menu_df = spark.read.format(\"csv\").option(\"header\",\"True\").schema(menu_schema).load(\"/FileStore/tables/menu_csv.txt\")"
   ]
  },
  {
   "cell_type": "code",
   "execution_count": 0,
   "metadata": {
    "application/vnd.databricks.v1+cell": {
     "cellMetadata": {
      "byteLimit": 2048000,
      "rowLimit": 10000
     },
     "inputWidgets": {},
     "nuid": "e92c2f83-a5b5-4a35-b5f9-7f98508fd33b",
     "showTitle": false,
     "title": ""
    }
   },
   "outputs": [
    {
     "output_type": "stream",
     "name": "stdout",
     "output_type": "stream",
     "text": [
      "+----------+------------+-----+\n|product_id|product_name|price|\n+----------+------------+-----+\n|         2|     Chowmin|  150|\n|         3|    sandwich|  120|\n|         4|        Dosa|  110|\n|         5|     Biryani|   80|\n|         6|       Pasta|  180|\n+----------+------------+-----+\n\n"
     ]
    }
   ],
   "source": [
    "menu_df.show()"
   ]
  },
  {
   "cell_type": "code",
   "execution_count": 0,
   "metadata": {
    "application/vnd.databricks.v1+cell": {
     "cellMetadata": {
      "byteLimit": 2048000,
      "rowLimit": 10000
     },
     "inputWidgets": {},
     "nuid": "6e71aa7d-55bd-4a33-a17f-331bfea95be1",
     "showTitle": false,
     "title": ""
    }
   },
   "outputs": [
    {
     "output_type": "stream",
     "name": "stdout",
     "output_type": "stream",
     "text": [
      "+-----------+----------+\n|customer_id|sum(price)|\n+-----------+----------+\n|          A|    3960.0|\n|          B|    3240.0|\n|          C|    1800.0|\n|          D|    1200.0|\n|          E|    2040.0|\n+-----------+----------+\n\n"
     ]
    }
   ],
   "source": [
    "## Total Amount Spend by per Customer\n",
    "\n",
    "total_amount_spent = (sales_df.join(menu_df,'product_id')\n",
    "                            .groupBy('customer_id')\n",
    "                            .agg({'price':'sum'})\n",
    "                            .orderBy('customer_id')\n",
    "                    )\n",
    "total_amount_spent.show()"
   ]
  },
  {
   "cell_type": "code",
   "execution_count": 0,
   "metadata": {
    "application/vnd.databricks.v1+cell": {
     "cellMetadata": {
      "byteLimit": 2048000,
      "rowLimit": 10000
     },
     "inputWidgets": {},
     "nuid": "ca139afa-dede-4a0e-a29e-0dfedcb1c796",
     "showTitle": false,
     "title": ""
    }
   },
   "outputs": [
    {
     "output_type": "stream",
     "name": "stdout",
     "output_type": "stream",
     "text": [
      "+------------+----------+\n|product_name|sum(price)|\n+------------+----------+\n|     Biryani|     480.0|\n|     Chowmin|    3600.0|\n|        Dosa|    1320.0|\n|       Pasta|    1080.0|\n|    sandwich|    5760.0|\n+------------+----------+\n\n"
     ]
    }
   ],
   "source": [
    "## Total amount spend per product.\n",
    "\n",
    "total_amount_spent_per_product = (sales_df.join(menu_df,'product_id')\n",
    "                      .groupBy('product_name')\n",
    "                      .agg({'price':'sum'})\n",
    "                      .orderBy('product_name'))\n",
    "\n",
    "total_amount_spent_per_product.show()"
   ]
  },
  {
   "cell_type": "code",
   "execution_count": 0,
   "metadata": {
    "application/vnd.databricks.v1+cell": {
     "cellMetadata": {
      "byteLimit": 2048000,
      "rowLimit": 10000
     },
     "inputWidgets": {},
     "nuid": "eaf28da4-8ee4-4a42-a767-c61764c4323d",
     "showTitle": false,
     "title": ""
    }
   },
   "outputs": [
    {
     "output_type": "stream",
     "name": "stdout",
     "output_type": "stream",
     "text": [
      "+-----------+----------+\n|order_month|sum(price)|\n+-----------+----------+\n|          1|    2460.0|\n|          2|    2430.0|\n|          3|     810.0|\n|          5|    2460.0|\n|          6|    2460.0|\n|          7|     810.0|\n|         11|     810.0|\n+-----------+----------+\n\n"
     ]
    }
   ],
   "source": [
    "### Monthly Sales.\n",
    "\n",
    "monthly_sales = (sales_df.join(menu_df,'product_id')\n",
    "                 .groupBy('order_month')\n",
    "                 .agg({'price':'sum'})\n",
    "                 .orderBy('order_month'))\n",
    "\n",
    "monthly_sales.show()"
   ]
  },
  {
   "cell_type": "code",
   "execution_count": 0,
   "metadata": {
    "application/vnd.databricks.v1+cell": {
     "cellMetadata": {
      "byteLimit": 2048000,
      "rowLimit": 10000
     },
     "inputWidgets": {},
     "nuid": "5e914815-d800-429b-85f6-a3e383fbb297",
     "showTitle": false,
     "title": ""
    }
   },
   "outputs": [
    {
     "output_type": "stream",
     "name": "stdout",
     "output_type": "stream",
     "text": [
      "+----------+----------+\n|order_year|sum(price)|\n+----------+----------+\n|      2022|    4350.0|\n|      2023|    7890.0|\n+----------+----------+\n\n"
     ]
    }
   ],
   "source": [
    "## Yearly Sales\n",
    "\n",
    "yearly_sales = (sales_df.join(menu_df,'product_id')\n",
    "                .groupBy('order_year')\n",
    "                .agg({'price':'sum'})\n",
    "                .orderBy('order_year'))\n",
    "\n",
    "yearly_sales.show()"
   ]
  },
  {
   "cell_type": "code",
   "execution_count": 0,
   "metadata": {
    "application/vnd.databricks.v1+cell": {
     "cellMetadata": {
      "byteLimit": 2048000,
      "rowLimit": 10000
     },
     "inputWidgets": {},
     "nuid": "833ae5f8-f2b5-4d77-8053-b0fd6a23b141",
     "showTitle": false,
     "title": ""
    }
   },
   "outputs": [
    {
     "output_type": "stream",
     "name": "stdout",
     "output_type": "stream",
     "text": [
      "+-------------+----------+\n|order_quarter|sum(price)|\n+-------------+----------+\n|            1|    5700.0|\n|            2|    4920.0|\n|            3|     810.0|\n|            4|     810.0|\n+-------------+----------+\n\n"
     ]
    }
   ],
   "source": [
    "## Quarterly Sales\n",
    "\n",
    "quarterly_sales = (sales_df.join(menu_df,'product_id')\n",
    "                   .groupBy('order_quarter')\n",
    "                   .agg({'price':'sum'})\n",
    "                   .orderBy('order_quarter'))\n",
    "\n",
    "quarterly_sales.show()"
   ]
  },
  {
   "cell_type": "code",
   "execution_count": 0,
   "metadata": {
    "application/vnd.databricks.v1+cell": {
     "cellMetadata": {
      "byteLimit": 2048000,
      "rowLimit": 10000
     },
     "inputWidgets": {},
     "nuid": "e6cd5bef-2337-424f-b231-b59515294fa7",
     "showTitle": false,
     "title": ""
    }
   },
   "outputs": [],
   "source": [
    "from pyspark.sql.functions import count"
   ]
  },
  {
   "cell_type": "code",
   "execution_count": 0,
   "metadata": {
    "application/vnd.databricks.v1+cell": {
     "cellMetadata": {
      "byteLimit": 2048000,
      "rowLimit": 10000
     },
     "inputWidgets": {},
     "nuid": "fc416852-f23b-41a4-b29c-7331d481a0c0",
     "showTitle": false,
     "title": ""
    }
   },
   "outputs": [
    {
     "output_type": "stream",
     "name": "stdout",
     "output_type": "stream",
     "text": [
      "+------------+-------------+\n|product_name|product_count|\n+------------+-------------+\n|    sandwich|           48|\n|     Chowmin|           24|\n|        Dosa|           12|\n|     Biryani|            6|\n|       Pasta|            6|\n+------------+-------------+\n\n"
     ]
    }
   ],
   "source": [
    "## No. of products purchased per product\n",
    "\n",
    "product_purchased = (sales_df.join(menu_df,'product_id').groupBy('product_id','product_name')\n",
    "                     .agg(count('product_id').alias('product_count'))\n",
    "                     .orderBy('product_count',ascending = 0)\n",
    "                     .drop('product_id')\n",
    "                     )\n",
    "product_purchased.show()"
   ]
  },
  {
   "cell_type": "code",
   "execution_count": 0,
   "metadata": {
    "application/vnd.databricks.v1+cell": {
     "cellMetadata": {
      "byteLimit": 2048000,
      "rowLimit": 10000
     },
     "inputWidgets": {},
     "nuid": "dc3628e1-a8c4-49e5-b490-1a9567cff6d4",
     "showTitle": false,
     "title": ""
    }
   },
   "outputs": [
    {
     "output_type": "stream",
     "name": "stdout",
     "output_type": "stream",
     "text": [
      "+------------+-------------+\n|product_name|product_count|\n+------------+-------------+\n|    sandwich|           48|\n|     Chowmin|           24|\n|        Dosa|           12|\n|     Biryani|            6|\n|       Pasta|            6|\n+------------+-------------+\n\n"
     ]
    }
   ],
   "source": [
    "## Top 5 Products\n",
    "total_5_products = (sales_df.join(menu_df,'product_id')\n",
    "                    .groupBy('product_id','product_name')\n",
    "                    .agg(count('product_id').alias('product_count'))\n",
    "                    .orderBy('product_count',ascending = 0)\n",
    "                    .drop('product_id').limit(5) )\n",
    "\n",
    "total_5_products.show()"
   ]
  },
  {
   "cell_type": "code",
   "execution_count": 0,
   "metadata": {
    "application/vnd.databricks.v1+cell": {
     "cellMetadata": {
      "byteLimit": 2048000,
      "rowLimit": 10000
     },
     "inputWidgets": {},
     "nuid": "6b4b28ef-7147-43d3-a675-c6a786d88ded",
     "showTitle": false,
     "title": ""
    }
   },
   "outputs": [
    {
     "output_type": "stream",
     "name": "stdout",
     "output_type": "stream",
     "text": [
      "+------------+-------------+\n|product_name|product_count|\n+------------+-------------+\n|    sandwich|           48|\n+------------+-------------+\n\n"
     ]
    }
   ],
   "source": [
    "## Most Ordered product.\n",
    "\n",
    "top_ordered_product = (sales_df.join(menu_df,'product_id')\n",
    "                    .groupBy('product_id','product_name')\n",
    "                    .agg(count('product_id').alias('product_count'))\n",
    "                    .orderBy('product_count',ascending = 0)\n",
    "                    .drop('product_id').limit(1) )\n",
    "\n",
    "top_ordered_product.show()"
   ]
  },
  {
   "cell_type": "code",
   "execution_count": 0,
   "metadata": {
    "application/vnd.databricks.v1+cell": {
     "cellMetadata": {
      "byteLimit": 2048000,
      "rowLimit": 10000
     },
     "inputWidgets": {},
     "nuid": "6fc9310f-9231-4508-a941-2a3d5344da54",
     "showTitle": false,
     "title": ""
    }
   },
   "outputs": [
    {
     "output_type": "stream",
     "name": "stdout",
     "output_type": "stream",
     "text": [
      "+--------+----------+\n|location|sum(price)|\n+--------+----------+\n|   India|    3960.0|\n|     USA|    2160.0|\n|      UK|    6120.0|\n+--------+----------+\n\n"
     ]
    }
   ],
   "source": [
    "## Sales Per Country\n",
    "sales_by_country = (sales_df.join(menu_df,'product_id')\n",
    "                    .groupBy('location')\n",
    "                    .agg({'price':'sum'}).alias('total_sales'))\n",
    "\n",
    "sales_by_country.show()\n",
    "     "
   ]
  },
  {
   "cell_type": "code",
   "execution_count": 0,
   "metadata": {
    "application/vnd.databricks.v1+cell": {
     "cellMetadata": {
      "byteLimit": 2048000,
      "rowLimit": 10000
     },
     "inputWidgets": {},
     "nuid": "7035a0b0-b369-4037-8616-73474acc920a",
     "showTitle": false,
     "title": ""
    }
   },
   "outputs": [
    {
     "output_type": "stream",
     "name": "stdout",
     "output_type": "stream",
     "text": [
      "+------------+----------+\n|source_order|sum(price)|\n+------------+----------+\n|      zomato|    4920.0|\n|      Swiggy|    4830.0|\n|  Restaurant|    2490.0|\n+------------+----------+\n\n"
     ]
    }
   ],
   "source": [
    "## Sales by order source\n",
    "sales_by_order_source = (sales_df.join(menu_df,'product_id')\n",
    "                         .groupBy('source_order')\n",
    "                    .agg({'price':'sum'}).alias('total_sales'))\n",
    "\n",
    "sales_by_order_source.show()"
   ]
  },
  {
   "cell_type": "code",
   "execution_count": 0,
   "metadata": {
    "application/vnd.databricks.v1+cell": {
     "cellMetadata": {
      "byteLimit": 2048000,
      "rowLimit": 10000
     },
     "inputWidgets": {},
     "nuid": "70e64324-7e86-4751-9946-2e34d30e8fa7",
     "showTitle": false,
     "title": ""
    }
   },
   "outputs": [],
   "source": []
  }
 ],
 "metadata": {
  "application/vnd.databricks.v1+notebook": {
   "dashboards": [],
   "environmentMetadata": null,
   "language": "python",
   "notebookMetadata": {
    "pythonIndentUnit": 4
   },
   "notebookName": "sales_data_analysis_notebook",
   "widgets": {}
  }
 },
 "nbformat": 4,
 "nbformat_minor": 0
}
